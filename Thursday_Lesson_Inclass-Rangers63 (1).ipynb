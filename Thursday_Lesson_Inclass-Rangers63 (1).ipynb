{
 "cells": [
  {
   "cell_type": "markdown",
   "metadata": {},
   "source": [
    "# Object-Oriented-Programming (OOP)"
   ]
  },
  {
   "cell_type": "markdown",
   "metadata": {},
   "source": [
    "## Tasks Today:\n",
    "\n",
    "   \n",
    "\n",
    "1) <b>Creating a Class (Initializing/Declaring)</b> <br>\n",
    "2) <b>Using a Class (Instantiating)</b> <br>\n",
    " &nbsp;&nbsp;&nbsp;&nbsp; a) Creating One Instance <br>\n",
    " &nbsp;&nbsp;&nbsp;&nbsp; b) Creating Multiple Instances <br>\n",
    " &nbsp;&nbsp;&nbsp;&nbsp; c) In-Class Exercise #1 - Create a Class 'Car' and instantiate three different makes of cars <br>\n",
    "3) <b>The \\__init\\__() Method</b> <br>\n",
    " &nbsp;&nbsp;&nbsp;&nbsp; a) The 'self' Attribute <br>\n",
    "4) <b>Class Attributes</b> <br>\n",
    " &nbsp;&nbsp;&nbsp;&nbsp; a) Initializing Attributes <br>\n",
    " &nbsp;&nbsp;&nbsp;&nbsp; b) Setting an Attribute Outside of the \\__init\\__() Method <br>\n",
    " &nbsp;&nbsp;&nbsp;&nbsp; c) Setting Defaults for Attributes <br>\n",
    " &nbsp;&nbsp;&nbsp;&nbsp; d) Accessing Class Attributes <br>\n",
    " &nbsp;&nbsp;&nbsp;&nbsp; e) Changing Class Attributes <br>\n",
    " &nbsp;&nbsp;&nbsp;&nbsp; f) In-Class Exercise #2 - Add a color and wheels attribute to your 'Car' class <br>\n",
    "5) <b>Class Methods</b> <br>\n",
    " &nbsp;&nbsp;&nbsp;&nbsp; a) Creating <br>\n",
    " &nbsp;&nbsp;&nbsp;&nbsp; b) Calling <br>\n",
    " &nbsp;&nbsp;&nbsp;&nbsp; c) Modifying an Attribute's Value Through a Method <br>\n",
    " &nbsp;&nbsp;&nbsp;&nbsp; d) Incrementing an Attribute's Value Through a Method <br>\n",
    " &nbsp;&nbsp;&nbsp;&nbsp; e) In-Class Exercise #3 - Add a method that prints the cars color and wheel number, then call them <br>\n",
    "6) <b>Inheritance</b> <br>\n",
    " &nbsp;&nbsp;&nbsp;&nbsp; a) Syntax for Inheriting from a Parent Class <br>\n",
    " &nbsp;&nbsp;&nbsp;&nbsp; b) The \\__init\\__() Method for a Child Class (super()) <br>\n",
    " &nbsp;&nbsp;&nbsp;&nbsp; c) Defining Attributes and Methods for the Child Class <br>\n",
    " &nbsp;&nbsp;&nbsp;&nbsp; d) Method Overriding <br>\n",
    " &nbsp;&nbsp;&nbsp;&nbsp; e) In-Class Exercise #4 - Create a class 'Ford' that inherits from 'Car' class and initialize it as a Blue Ford Explorer with 4 wheels using the super() method <br>\n",
    "7) <b>Classes as Attributes</b> <br>\n",
    "8) <b>Exercises</b> <br>\n",
    " &nbsp;&nbsp;&nbsp;&nbsp; a) Exercise #1 - Turn the shopping cart program from yesterday into an object-oriented program <br>"
   ]
  },
  {
   "cell_type": "markdown",
   "metadata": {},
   "source": [
    "## Creating a Class (Initializing/Declaring)\n",
    "<p>When creating a class, function, or even a variable you are initializing that object. Initializing and Declaring occur at the same time in Python, whereas in lower level languages you have to declare an object before initializing it. This is the first step in the process of using a class.</p>"
   ]
  },
  {
   "cell_type": "code",
   "execution_count": 20,
   "metadata": {},
   "outputs": [
    {
     "ename": "TypeError",
     "evalue": "Car.headLight() takes 0 positional arguments but 1 was given",
     "output_type": "error",
     "traceback": [
      "\u001b[1;31m---------------------------------------------------------------------------\u001b[0m",
      "\u001b[1;31mTypeError\u001b[0m                                 Traceback (most recent call last)",
      "Cell \u001b[1;32mIn[20], line 10\u001b[0m\n\u001b[0;32m      7\u001b[0m         \u001b[38;5;28mprint\u001b[39m(\u001b[38;5;124m\"\u001b[39m\u001b[38;5;124mTurn them on for safety, do not crash into a moose\u001b[39m\u001b[38;5;124m\"\u001b[39m)\n\u001b[0;32m      9\u001b[0m volkswagon \u001b[38;5;241m=\u001b[39m Car()\n\u001b[1;32m---> 10\u001b[0m \u001b[43mvolkswagon\u001b[49m\u001b[38;5;241;43m.\u001b[39;49m\u001b[43mheadLight\u001b[49m\u001b[43m(\u001b[49m\u001b[43m)\u001b[49m\n",
      "\u001b[1;31mTypeError\u001b[0m: Car.headLight() takes 0 positional arguments but 1 was given"
     ]
    }
   ],
   "source": [
    "class Car():\n",
    "    wheels = 4\n",
    "    color = 'blue'\n",
    "    windshield_wipers = 'wee woo wee woo'\n",
    "    \n",
    "    def headLight():\n",
    "        print(\"Turn them on for safety, do not crash into a moose\")\n",
    "        \n",
    "volkswagon = Car()\n",
    "volkswagon.headLight()"
   ]
  },
  {
   "cell_type": "markdown",
   "metadata": {},
   "source": [
    "## Using a Class (Instantiating)\n",
    "<p>The process of creating a class is called <i>Instantiating</i>. Each time you create a variable of that type of class, it is referred to as an <i>Instance</i> of that class. This is the second step in the process of using a class.</p>"
   ]
  },
  {
   "cell_type": "markdown",
   "metadata": {},
   "source": [
    "##### Creating One Instance"
   ]
  },
  {
   "cell_type": "code",
   "execution_count": 13,
   "metadata": {},
   "outputs": [
    {
     "name": "stdout",
     "output_type": "stream",
     "text": [
      "wee woo wee woo\n"
     ]
    }
   ],
   "source": [
    "ford = Car()\n",
    "\n",
    "print(ford.windshield_wipers)\n",
    "\n",
    "#usually all classes are capitalized"
   ]
  },
  {
   "cell_type": "markdown",
   "metadata": {},
   "source": [
    "##### Creating Multiple Instances"
   ]
  },
  {
   "cell_type": "code",
   "execution_count": 14,
   "metadata": {},
   "outputs": [
    {
     "data": {
      "text/plain": [
       "__main__.Car"
      ]
     },
     "execution_count": 14,
     "metadata": {},
     "output_type": "execute_result"
    }
   ],
   "source": [
    "chevrolet = Car()\n",
    "honda = Car()\n",
    "porsche = Car()\n",
    "\n",
    "type(honda)"
   ]
  },
  {
   "cell_type": "markdown",
   "metadata": {},
   "source": [
    "##### In-Class Exercise #1 - Create a Class 'Car' and Instantiate three different makes of cars"
   ]
  },
  {
   "cell_type": "code",
   "execution_count": 17,
   "metadata": {},
   "outputs": [
    {
     "name": "stdout",
     "output_type": "stream",
     "text": [
      "4\n"
     ]
    }
   ],
   "source": [
    "class Car():\n",
    "    wheel = 4\n",
    "    color = \"red\"\n",
    "    door = 2\n",
    "    sun_roof = True\n",
    "    nitro = True \n",
    "    \n",
    "honda_fit = Car()\n",
    "honda_accord = Car()\n",
    "chevy = Car()\n",
    "\n",
    "print (honda_accord.wheel)"
   ]
  },
  {
   "cell_type": "markdown",
   "metadata": {},
   "source": [
    "## The \\__init\\__() Method <br>\n",
    "<p>This method is used in almost every created class, and called only once upon the creation of the class instance. This method will initialize all variables needed for the object.</p>"
   ]
  },
  {
   "cell_type": "code",
   "execution_count": 55,
   "metadata": {},
   "outputs": [
    {
     "name": "stdout",
     "output_type": "stream",
     "text": [
      "black\n",
      "blue\n",
      "6\n",
      "747\n"
     ]
    }
   ],
   "source": [
    "class Car():\n",
    "    engine = \"4.7L\" #Global within the class - any method inside the class can call upon this variable\n",
    "    #can change this within a class just can't put it into class when you declare class\n",
    "    \n",
    "\n",
    "    def __init__ (self, color, wheels ):\n",
    "        self.color = color\n",
    "        self.wheels = wheels\n",
    "    \n",
    "mazda = Car(\"black\", 4)\n",
    "\n",
    "print(mazda.color)\n",
    "subaru = Car(\"blue\", 6)\n",
    "print(subaru.color)\n",
    "print(subaru.wheels)\n",
    "subaru.engine = '747'\n",
    "print(subaru.engine)\n"
   ]
  },
  {
   "cell_type": "markdown",
   "metadata": {},
   "source": [
    "##### The 'self' Attribute <br>\n",
    "<p>This attribute is required to keep track of specific instance's attributes. Without the self attribute, the program would not know how to reference or keep track of an instance's attributes.</p>"
   ]
  },
  {
   "cell_type": "code",
   "execution_count": null,
   "metadata": {},
   "outputs": [],
   "source": [
    "# see above\n",
    "\n",
    "#don't have to know how it works but just what it does \n",
    "#need self to keep track of an instance of a classes data\n"
   ]
  },
  {
   "cell_type": "markdown",
   "metadata": {},
   "source": [
    "## Class Attributes <br>\n",
    "<p>While variables are inside of a class, they are referred to as attributes and not variables. When someone says 'attribute' you know they're speaking about a class. Attributes can be initialized through the init method, or outside of it.</p>"
   ]
  },
  {
   "cell_type": "markdown",
   "metadata": {},
   "source": [
    "##### Initializing Attributes"
   ]
  },
  {
   "cell_type": "code",
   "execution_count": 52,
   "metadata": {},
   "outputs": [
    {
     "name": "stdout",
     "output_type": "stream",
     "text": [
      "Clean\n"
     ]
    },
    {
     "data": {
      "text/plain": [
       "'Rock on, CLimber'"
      ]
     },
     "execution_count": 52,
     "metadata": {},
     "output_type": "execute_result"
    }
   ],
   "source": [
    "# see above\n",
    "\n",
    "# class Toy():\n",
    "#     kind = \"car\" #this is called a constant\n",
    "    \n",
    "#     def __init__ (self, rooftop, horn, wheels):\n",
    "#         self.rooftop = rooftop\n",
    "#         self.horn = horn\n",
    "#         self.wheels = wheels\n",
    "        \n",
    "# tonka_truck = Toy(1,1,4) #1 rooftop, 1 horn, 4 wheels\n",
    "# hotwheels_car = Toy(2, 3, 8) #2 rooftops, 3 horns, 8 wheels\n",
    "        \n",
    "    \n",
    "\n",
    "\n",
    "class House():\n",
    "    \n",
    "    def __init__(self, wall, dishes):\n",
    "        self.wall = wall\n",
    "        self.dishes = dishes\n",
    "    \n",
    "    def washDishes(self):\n",
    "        if self.dishes.lower() == 'dirty':\n",
    "            return \"Clean\"\n",
    "        \n",
    "# Passing the wall as a local variable for the function in question\n",
    "#if put self.wall use the global variable for the class \n",
    "#if put the wall variable then are using the local one handed\n",
    "#to the method when method is called\n",
    "    \n",
    "    def rockClimbingWall(self, wall):\n",
    "        if wall.lower() == \"yes\":\n",
    "            return \"Rock on, CLimber\"\n",
    "        else:\n",
    "            return \"Why pn earth would you not want a rock climbing wall?\"\n",
    "\n",
    "        \n",
    "        \n",
    "brandon_house = House(\"yes\", 'diRty')\n",
    "\n",
    "print(brandon_house.washDishes())\n",
    "brandon_house.rockClimbingWall('yes') \n",
    "\n",
    "#the self function creates an instance of the class in the cloud\n",
    "#need to use the self attribute to acess that particular data\n",
    "#for each instance of the class. We assign values to an\n",
    "#instance of the class and then use self to pull it back down \n",
    "#in order to work with it \n",
    "\n",
    "\n",
    "\n",
    "#two ways to hand data to the a class method \n",
    "#declare as a global variable for the class self.var with init \n",
    "#declare this variable when you create an instance of the class\n",
    "\n",
    "# other way is to use a method and hand it into a the method \n",
    "#This variable is only accessable in the method \n",
    "\n"
   ]
  },
  {
   "cell_type": "markdown",
   "metadata": {},
   "source": [
    "##### Accessing Class Attributes"
   ]
  },
  {
   "cell_type": "code",
   "execution_count": 29,
   "metadata": {
    "scrolled": true
   },
   "outputs": [
    {
     "data": {
      "text/plain": [
       "4"
      ]
     },
     "execution_count": 29,
     "metadata": {},
     "output_type": "execute_result"
    }
   ],
   "source": [
    "# See Above\n",
    "\n",
    "tonka_truck.wheels"
   ]
  },
  {
   "cell_type": "markdown",
   "metadata": {},
   "source": [
    "##### Setting Defaults for Attributes"
   ]
  },
  {
   "cell_type": "code",
   "execution_count": 37,
   "metadata": {},
   "outputs": [],
   "source": [
    "class Car():\n",
    "    engine = \"4.7L\"\n",
    "    \n",
    "    def __init__(self, wheels):\n",
    "        self.wheels = wheels\n",
    "        self.color = \"Blue\"\n",
    "        \n",
    "honda= Car(4)\n"
   ]
  },
  {
   "cell_type": "markdown",
   "metadata": {},
   "source": [
    "##### Changing Class Attributes <br>\n",
    "<p>Keep in mind there are global class attributes and then there are attributes only available to each class instance which won't effect other classes.</p>"
   ]
  },
  {
   "cell_type": "code",
   "execution_count": 38,
   "metadata": {},
   "outputs": [
    {
     "name": "stdout",
     "output_type": "stream",
     "text": [
      "Before change: Blue\n",
      "\n",
      "After change: white\n",
      "black\n"
     ]
    }
   ],
   "source": [
    "jeep = Car(8)\n",
    "\n",
    "print(f\"Before change: {jeep.color}\")\n",
    "\n",
    "jeep.color = \"white\"\n",
    "\n",
    "print(f\"\\nAfter change: {jeep.color}\")\n",
    "\n",
    "print(honda.color)"
   ]
  },
  {
   "cell_type": "code",
   "execution_count": null,
   "metadata": {},
   "outputs": [],
   "source": []
  },
  {
   "cell_type": "markdown",
   "metadata": {},
   "source": [
    "##### In-Class Exercise #2 - Add a doors and seats attribute to your 'Car' class then print out two different instances with different doors and seats"
   ]
  },
  {
   "cell_type": "code",
   "execution_count": 61,
   "metadata": {},
   "outputs": [
    {
     "name": "stdout",
     "output_type": "stream",
     "text": [
      "Toyota seats: 2 and Toyota doors: 2\n",
      "porshe seats: 4 and porsha doors: 4\n"
     ]
    }
   ],
   "source": [
    "class Car():\n",
    "    \n",
    "    #seats and self.seats dont need to be called the same thing\n",
    "    #it seems __init__ is taking info and then assigning it to \n",
    "    #self so it can then be used as self.var_name \n",
    "    def __init__(self, doors, seats = 4):\n",
    "        self.doors = doors \n",
    "        self.seats = seats\n",
    "        \n",
    "toyota = Car (2,2)\n",
    "porshca = Car(4)\n",
    "\n",
    "print(f\"Toyota seats: {toyota.seats} and Toyota doors: {toyota.doors}\")\n",
    "print(f\"porshe seats: {porshca.seats} and porsha doors: {porshca.doors}\")\n",
    "\n",
    "    \n",
    "#     def __init__(self, wheels, color, doors, seats):\n",
    "#         self.wheels = wheels\n",
    "#         self.color = color\n",
    "#         self.doors = doors\n",
    "#         self.seats = seats\n",
    "\n",
    "# honda_civic = Car(4, 'Blue', 4, 5)\n",
    "# jeep = Car(6, 'Yellow', 2, 7)\n",
    "\n",
    "\n",
    "# print(f\"The {honda_civic.color} Honda Civic has: {honda_civic.wheels} wheels, {honda_civic.doors} doors and {honda_civic.seats} seats\")\n",
    "# print(f\"The {jeep.color} Jeep has: {jeep.wheels} wheels, {jeep.doors} doors and {jeep.seats} seats\")"
   ]
  },
  {
   "cell_type": "markdown",
   "metadata": {},
   "source": [
    "## Class Methods <br>\n",
    "<p>While inside of a class, functions are referred to as 'methods'. If you hear someone mention methods, they're speaking about classes. Methods are essentially functions, but only callable on the instances of a class.</p>"
   ]
  },
  {
   "cell_type": "markdown",
   "metadata": {},
   "source": [
    "##### Creating"
   ]
  },
  {
   "cell_type": "code",
   "execution_count": 77,
   "metadata": {},
   "outputs": [],
   "source": [
    "class ShoppingBag():\n",
    "    '''\n",
    "        The shopping bag class will have handles, capacity\n",
    "        and items to place inside \n",
    "        \n",
    "        Attributes for the class:\n",
    "        -handles: expected to be an integer\n",
    "        -capacity: expected to be a string or integer\n",
    "        -items: expected to be a list\n",
    "    '''\n",
    "    \n",
    "    def __init__(self, handles, capacity, items):\n",
    "        self.handles = handles \n",
    "        self.capacity = capacity \n",
    "        self.items = items \n",
    "        \n",
    "    #write a method that shows the items in our ShoppingBag \n",
    "    #THis is out items list \n",
    "    \n",
    "    def showShoppingBag(self):\n",
    "        if self.items != []:\n",
    "            print(\"You have items in your bag!\")\n",
    "            for item in self.items:\n",
    "                print(item)\n",
    "        else:\n",
    "            print(\"You have no items in your bag!\")\n",
    "            \n",
    "    #show capacity of ShoppingBag - how much room is left \n",
    "    \n",
    "    def showCapacity(self):\n",
    "        print(f'Your capacity is: {self.capacity}')\n",
    "        \n",
    "    #Add items to the items list for the ShoppingBag\n",
    "    def addToShoppingBag(self):\n",
    "        #check to see if hava capacity in shopping bag\n",
    "        if len(self.items) >= self.capacity:\n",
    "            print(\"You have run out of space in your shopping cart. Please add more\")\n",
    "        else:\n",
    "            products = input(\"What would you like to add? \")\n",
    "            self.items.append(products)\n",
    "        \n",
    "    #change the capacity of the ShoopingBag \n",
    "    def changeBagCapacity(self, capacity):\n",
    "        self.capacity = capacity\n",
    "    \n",
    "    #increase the capacity of the ShoppingaBag by a default amount that we set to 10\n",
    "    def increaseCapacity(self, changed_capacity = 10 ):\n",
    "        if self.capacity == isinstance (self.capacity, str):\n",
    "            print(\"we can't add that here\")\n",
    "        else:\n",
    "            self.capacity += changed_capacity\n",
    "            "
   ]
  },
  {
   "cell_type": "markdown",
   "metadata": {},
   "source": [
    "##### Calling"
   ]
  },
  {
   "cell_type": "code",
   "execution_count": 79,
   "metadata": {},
   "outputs": [
    {
     "name": "stdout",
     "output_type": "stream",
     "text": [
      "What do you want to do: add/show/incr/quit add\n",
      "What would you like to add? sugar\n",
      "What do you want to do: add/show/incr/quit add\n",
      "What would you like to add? chocolate\n",
      "What do you want to do: add/show/incr/quit add\n",
      "What would you like to add? bananas\n",
      "What do you want to do: add/show/incr/quit show\n",
      "You have items in your bag!\n",
      "sugar\n",
      "chocolate\n",
      "bananas\n",
      "What do you want to do: add/show/incr/quit add\n",
      "You have run out of space in your shopping cart. Please add more\n",
      "What do you want to do: add/show/incr/quit incr\n",
      "What do you want to do: add/show/incr/quit add\n",
      "What would you like to add? chocolate\n",
      "What do you want to do: add/show/incr/quit add\n",
      "What would you like to add? a\n",
      "What do you want to do: add/show/incr/quit add\n",
      "What would you like to add? add\n",
      "What do you want to do: add/show/incr/quit ad\n",
      "Try another command\n",
      "What do you want to do: add/show/incr/quit add\n",
      "What would you like to add? add\n",
      "What do you want to do: add/show/incr/quit add\n",
      "What would you like to add? add\n",
      "What do you want to do: add/show/incr/quit ad\n",
      "Try another command\n",
      "What do you want to do: add/show/incr/quit \n",
      "Try another command\n",
      "What do you want to do: add/show/incr/quit add\n",
      "What would you like to add? add\n",
      "What do you want to do: add/show/incr/quit add\n",
      "What would you like to add? addd\n",
      "What do you want to do: add/show/incr/quit add\n",
      "What would you like to add? ad\n",
      "What do you want to do: add/show/incr/quit add\n",
      "What would you like to add? add\n",
      "What do you want to do: add/show/incr/quit add\n",
      "What would you like to add? add\n",
      "What do you want to do: add/show/incr/quit add\n",
      "You have run out of space in your shopping cart. Please add more\n",
      "What do you want to do: add/show/incr/quit quit\n",
      "You have items in your bag!\n",
      "sugar\n",
      "chocolate\n",
      "bananas\n",
      "chocolate\n",
      "a\n",
      "add\n",
      "add\n",
      "add\n",
      "add\n",
      "addd\n",
      "ad\n",
      "add\n",
      "add\n",
      "Thanks for shopping\n"
     ]
    }
   ],
   "source": [
    "# See Above\n",
    "# so far we created the idea of the shopping bd: Now we will actually\n",
    "#instatiate and MAKE one, and use it!\n",
    "\n",
    "wholeFoods_bag = ShoppingBag(2, 3, [])\n",
    "\n",
    "#create a function to run the ShoppingBag methods on our \n",
    "#whole food bags instance \n",
    "\n",
    "def run():\n",
    "    while True:\n",
    "        response = input (\"What do you want to do: add/show/incr/quit \")\n",
    "        \n",
    "        if response.lower() == 'quit':\n",
    "            wholeFoods_bag.showShoppingBag()\n",
    "            print(\"Thanks for shopping\")\n",
    "            break\n",
    "        elif response.lower() == 'add':\n",
    "            wholeFoods_bag.addToShoppingBag()\n",
    "        elif response.lower() == \"show\":\n",
    "            wholeFoods_bag.showShoppingBag()\n",
    "        elif response.lower() == \"incr\":\n",
    "            wholeFoods_bag.increaseCapacity()\n",
    "\n",
    "        else:\n",
    "            print('Try another command')\n",
    "            \n",
    "run()"
   ]
  },
  {
   "cell_type": "markdown",
   "metadata": {},
   "source": [
    "##### Modifying an Attribute's Value Through a Method"
   ]
  },
  {
   "cell_type": "code",
   "execution_count": 73,
   "metadata": {},
   "outputs": [
    {
     "name": "stdout",
     "output_type": "stream",
     "text": [
      "Your capacity is: 10\n",
      "Capacity AFTER the change...\n",
      "Your capacity is: 40\n"
     ]
    }
   ],
   "source": [
    "#Show the capacity \n",
    "wholeFoods_bag.showCapacity()\n",
    "print(\"Capacity AFTER the change...\")\n",
    "\n",
    "wholeFoods_bag.changeBagCapacity(40)\n",
    "wholeFoods_bag.showCapacity()\n"
   ]
  },
  {
   "cell_type": "markdown",
   "metadata": {},
   "source": [
    "##### Incrementing an Attribute's Value Through a Method"
   ]
  },
  {
   "cell_type": "code",
   "execution_count": 75,
   "metadata": {},
   "outputs": [
    {
     "name": "stdout",
     "output_type": "stream",
     "text": [
      "Your capacity is: 80\n",
      "Capacity AFTER the change...\n",
      "Your capacity is: 90\n"
     ]
    }
   ],
   "source": [
    "wholeFoods_bag.showCapacity()\n",
    "print(\"Capacity AFTER the change...\")\n",
    "\n",
    "wholeFoods_bag.increaseCapacity()\n",
    "wholeFoods_bag.showCapacity()\n"
   ]
  },
  {
   "cell_type": "markdown",
   "metadata": {},
   "source": [
    "##### In-Class Exercise #3 - Add a method that takes in three parameters of year, doors and seats and prints out a formatted print statement with make, model, year, seats, and doors"
   ]
  },
  {
   "cell_type": "code",
   "execution_count": 76,
   "metadata": {},
   "outputs": [
    {
     "name": "stdout",
     "output_type": "stream",
     "text": [
      "This car is from 2019 and is a Ford Explorer and has 4 doors and 5 seats\n"
     ]
    }
   ],
   "source": [
    "# Create class with 2 paramters inside of the __init__ which are make and model\n",
    "\n",
    "# Inside of the Car class create a method that has 4 parameter in total (self,year,door,seats)\n",
    "\n",
    "# Output: This car is from 2019 and is a Ford Expolorer and has 4 doors and 5 seats\n",
    "\n",
    "class Car():\n",
    "    def __init__ (self, make, model):\n",
    "        self.make = make\n",
    "        self.model = model\n",
    "        \n",
    "    def display_car (self, year, doors, seats):\n",
    "        print(f\"This car is from {year} and is a {self.make} {self.model} and has {doors} doors and {seats} seats\")\n",
    "\n",
    "car_1 = Car(\"Ford\", \"Explorer\")\n",
    "\n",
    "car_1.display_car(2019, 4, 5)"
   ]
  },
  {
   "cell_type": "markdown",
   "metadata": {},
   "source": [
    "## Inheritance <br>\n",
    "<p>You can create a child-parent relationship between two classes by using inheritance. What this allows you to do is have overriding methods, but also inherit traits from the parent class. Think of it as an actual parent and child, the child will inherit the parent's genes, as will the classes in OOP</p>"
   ]
  },
  {
   "cell_type": "markdown",
   "metadata": {},
   "source": [
    "##### Syntax for Inheriting from a Parent Class"
   ]
  },
  {
   "cell_type": "code",
   "execution_count": 88,
   "metadata": {},
   "outputs": [
    {
     "name": "stdout",
     "output_type": "stream",
     "text": [
      "bark\n",
      "Make some generic sound\n",
      "None\n",
      "9.8\n",
      "15\n"
     ]
    }
   ],
   "source": [
    "#create a parent class and call it animal\n",
    "class Animal():\n",
    "    acceleration = 9.8\n",
    "    \n",
    "    def __init__(self, name, species, legs = 4):\n",
    "        self.name = name\n",
    "        self.species = species\n",
    "        self.legs = legs\n",
    "        \n",
    "        #Generic Parent Method - THis is not overriding anything\n",
    "    def makeSound(self):\n",
    "        print(\"Make some generic sound\")\n",
    "            \n",
    "#Now we are making out child class... Dog \n",
    "\n",
    "class Dog(Animal):\n",
    "    speed = 15\n",
    "    \n",
    "    def printInfo(self):\n",
    "        print(f\"The Dog has {self.speed}mph in speed and {self.acceleration}\")\n",
    "\n",
    "#Creation of our Grand-Child Class -- Mutt\n",
    "\n",
    "class Mutt(Dog):\n",
    "    color = \"Tan\"\n",
    "    \n",
    "    #override the animal class - using the DOg class to overwrite the __init__ from Animal \n",
    "    \n",
    "    def __init__ (self, name, species, eye_color, legs = 4):\n",
    "        Dog.__init__(self, name, species, legs)\n",
    "        self.eye_color = eye_color\n",
    "        \n",
    "    #Override the makeSound method (which is coming form... Animal)\n",
    "    \n",
    "    def makeSound(self):\n",
    "        noise = \"bark\"\n",
    "        return noise\n",
    "    \n",
    "lassie = Dog(\"Lassie\", 'Dog')\n",
    "basic_animal = Animal(\"Generic Animal Name\", 'Generic Animal Species')\n",
    "buster = Mutt (\"Buster\", 'Mut', \"Brown\")\n",
    "\n",
    "print(buster.makeSound())\n",
    "print(lassie.makeSound())\n",
    "print(buster.acceleration)\n",
    "\n",
    "# print(basic_animal.speed)\n",
    "print(buster.speed)\n",
    "            "
   ]
  },
  {
   "cell_type": "markdown",
   "metadata": {},
   "source": [
    "##### The \\__init\\__() Method for a Child Class - super()"
   ]
  },
  {
   "cell_type": "code",
   "execution_count": 89,
   "metadata": {
    "scrolled": true
   },
   "outputs": [
    {
     "name": "stdout",
     "output_type": "stream",
     "text": [
      "bark\n",
      "Make some generic sound\n",
      "None\n",
      "9.8\n",
      "15\n"
     ]
    }
   ],
   "source": [
    "class Puppy(Dog):\n",
    "    color = \"black and brown\"\n",
    "    \n",
    "    #override the Animal class __init__ (via Dog Class)\n",
    "    #this information is sent all the way to the parent class animal\n",
    "    #super goes all the way up to the parent class\n",
    "    \n",
    "    \n",
    "    def __init__ (self, name, species, eye_color, legs = 4):\n",
    "        super().__init__(name, species, legs)\n",
    "        self.eye_color = eye_color\n",
    "        \n",
    "    #override the makeSound method\n",
    "    def makeSound(self):\n",
    "        noise = \"bark\"\n",
    "        return noise\n",
    "    \n",
    "lassie = Dog(\"Lassie\", 'Dog')\n",
    "basic_animal = Animal(\"Generic Animal Name\", 'Generic Animal Species')\n",
    "buster = Mutt (\"Buster\", 'Mut', \"Brown\")\n",
    "\n",
    "print(buster.makeSound())\n",
    "print(lassie.makeSound())\n",
    "print(buster.acceleration)\n",
    "\n",
    "# print(basic_animal.speed)\n",
    "print(buster.speed)\n",
    "            \n",
    "    "
   ]
  },
  {
   "cell_type": "markdown",
   "metadata": {},
   "source": [
    "##### Defining Attributes and Methods for the Child Class"
   ]
  },
  {
   "cell_type": "code",
   "execution_count": null,
   "metadata": {},
   "outputs": [],
   "source": [
    "# See Above"
   ]
  },
  {
   "cell_type": "markdown",
   "metadata": {},
   "source": [
    "##### Method Overriding"
   ]
  },
  {
   "cell_type": "code",
   "execution_count": null,
   "metadata": {},
   "outputs": [],
   "source": [
    "# See Above"
   ]
  },
  {
   "cell_type": "markdown",
   "metadata": {},
   "source": [
    "## Classes as Attributes <br>\n",
    "<p>Classes can also be used as attributes within another class. This is useful in situations where you need to keep variables locally stored, instead of globally stored.</p>"
   ]
  },
  {
   "cell_type": "code",
   "execution_count": 92,
   "metadata": {},
   "outputs": [
    {
     "name": "stdout",
     "output_type": "stream",
     "text": [
      "2019 Tesla Model X 20\n"
     ]
    }
   ],
   "source": [
    "class Battery():\n",
    "    volts = 7.8\n",
    "    \n",
    "    def __init__ (self, cells):\n",
    "        self.cells = cells\n",
    "        \n",
    "class Car():\n",
    "    def __init__ (self, year, make, model, battery):\n",
    "        self.year = year\n",
    "        self.make = make\n",
    "        self.model = model\n",
    "        self.battery = battery\n",
    "\n",
    "    def printInfo(self):\n",
    "        return f\"{self.year} {self.make} {self.model} {self.battery.cells}\"\n",
    "\n",
    "    \n",
    "my_battery = Battery(20)\n",
    "\n",
    "tesla = Car(2019, 'Tesla', 'Model X', my_battery)\n",
    "\n",
    "print(tesla.printInfo())"
   ]
  },
  {
   "cell_type": "markdown",
   "metadata": {},
   "source": [
    "# Exercises"
   ]
  },
  {
   "cell_type": "markdown",
   "metadata": {},
   "source": [
    "### Exercise 1 - Turn the shopping cart program from yesterday into an object-oriented program\n",
    "\n",
    "The comments in the cell below are there as a guide for thinking about the problem. However, if you feel a different way is best for you and your own thought process, please do what feels best for you by all means."
   ]
  },
  {
   "cell_type": "code",
   "execution_count": 12,
   "metadata": {},
   "outputs": [
    {
     "name": "stdout",
     "output_type": "stream",
     "text": [
      "Do you want to: Show/Add/Delete/Incr or Quit? add\n",
      "What item would you like to add? chcoo\n",
      "\n",
      "You have added chcoo to your shopping list and have room for 2 items in your cart\n",
      "Do you want to: Show/Add/Delete/Incr or Quit? show\n",
      "\n",
      "These are the items in you shopping list:\n",
      "\n",
      "chcoo\n",
      "\n",
      "You have 1 items in your cart and space for 2 item(s) in your cart\n",
      "Do you want to: Show/Add/Delete/Incr or Quit? choco\n",
      "None of the options you entered are valid or your shopping cart is empty and you can not delete items\n",
      "Do you want to: Show/Add/Delete or Quit? quit\n",
      "Do you want to: Show/Add/Delete/Incr or Quit? quit\n",
      "\n",
      "These are the items in you shopping list:\n",
      "\n",
      "chcoo\n",
      "\n",
      "You have 1 items in your cart and space for 2 item(s) in your cart\n"
     ]
    }
   ],
   "source": [
    "# Create a class called cart that retains items and has methods to add, remove, and show\n",
    "\n",
    "class Cart():\n",
    "    #Cart attributes: empty list, capacity?- I can add that to the program\n",
    "    #A\n",
    "    #write method to add things \n",
    "    #write method to show items in cart\n",
    "    #write method to \n",
    "    out_of_stock = [\"brocoli\", \"blueberries\", \"chocolate\", 'mango', 'white sugar', \"red bull\", \"potatos\", \"peppers\", \"sauce\", \"chips\"]\n",
    "    capacity = 3\n",
    "    new_line='\\n'\n",
    "    \n",
    "    def __init__(self, shopping_list = []):\n",
    "        self.shopping_list = shopping_list\n",
    "        \n",
    "    def add_item(self):\n",
    "        added_flag = True\n",
    "        added_item = input(\"What item would you like to add? \").lower().strip()\n",
    "        while added_flag:\n",
    "            if added_item in self.out_of_stock:\n",
    "                added_item = input(\"That item is out of stock.\\nWhat else would you like to add?\").lower().strip()\n",
    "            elif added_item in self.shopping_list:\n",
    "                added_item = input(\"That item is already in your shopping cart\\nWhat else would you like to add?\").lower().strip()\n",
    "            else:\n",
    "                added_flag = False\n",
    "                self.shopping_list.append(added_item)\n",
    "                print(f\"{self.new_line}You have added {added_item} to your shopping list and have room for {self.capacity_left()} items in your cart\")\n",
    "        \n",
    "    \n",
    "    def delete_item(self):\n",
    "        del_flag = True\n",
    "        del_item = input(\"What item would you like to delete? \").lower().strip()\n",
    "        while del_flag:\n",
    "            if del_item in self.shopping_list:\n",
    "                self.shopping_list.remove(del_item)\n",
    "                print(f\"{self.new_line}You have removed {del_item} from your shopping list and have room for {self.capacity_left()} items in your cart\")\n",
    "                del_flag = False\n",
    "            else:\n",
    "                del_item = input(\"\\nThis item is not in your shopping list! Please enter another item\")  \n",
    "                \n",
    "    def show_items(self):\n",
    "        print(\"\\nThese are the items in you shopping list:\\n\")\n",
    "        for i in self.shopping_list:\n",
    "            print(i)\n",
    "        self.print_capacity()\n",
    "        \n",
    "    def increase_capacity(self, amount):\n",
    "        self.capacity += amount\n",
    "        \n",
    "    def low_capacity(self):\n",
    "        print(\"You have room for one more item.\")\n",
    "        add_capacity = input(\"\\nWould you like to add more room to your shopping cart (y/n)\").lower().strip()\n",
    "        if add_capacity == \"y\":\n",
    "            capacity_flag = True\n",
    "            incr_amount = input(\"\\nHow much capacity would you like to add to your shopping cart? \").strip()\n",
    "            while capacity_flag:\n",
    "                if  incr_amount.isdigit():\n",
    "                    capacity_flag = False\n",
    "                    self.increase_capacity(int(incr_amount))\n",
    "                else:\n",
    "                    incr_amount = input(\"\\nYou did not enter a digit please enter a digit \").strip()\n",
    "        else:\n",
    "            self.print_capacity()\n",
    "            \n",
    "    def incr_capacity(self):\n",
    "        self.capacity += 3\n",
    "        \n",
    "    def print_capacity(self):\n",
    "        print(f\"{self.new_line}You have {len(self.shopping_list)} items in your cart and space for {self.capacity_left()} item(s) in your cart\")\n",
    "    \n",
    "    def capacity_left(self):\n",
    "        return self.capacity - len(self.shopping_list)\n",
    "        \n",
    "    \n",
    "    \n",
    "kroger_cart = Cart()\n",
    "\n",
    "    \n",
    "sprouts_list = []\n",
    "\n",
    "sprouts_cart = Cart()\n",
    "\n",
    "flag = True\n",
    "\n",
    "while flag:\n",
    "    user_input = input(\"Do you want to: Show/Add/Delete/Incr or Quit? \").lower().strip()\n",
    "    \n",
    "    if user_input == \"quit\":\n",
    "        flag = False\n",
    "        sprouts_cart.show_items()\n",
    "        \n",
    "    elif user_input == \"incr\":\n",
    "        sprouts_cart.incr_capacity()\n",
    "        \n",
    "    elif user_input == \"show\":\n",
    "        sprouts_cart.show_items()\n",
    "            \n",
    "    elif user_input == \"add\" and sprouts_cart.capacity > len(sprouts_cart.shopping_list):\n",
    "        if sprouts_cart.capacity == (len(sprouts_cart.shopping_list) +1 ):\n",
    "            cap_option = sprouts_cart.low_capacity()\n",
    "        else:\n",
    "            sprouts_cart.add_item()\n",
    "        \n",
    "    elif user_input == \"delete\" and sprouts_cart.shopping_list == []:\n",
    "        print(\"\\nYou can not delete any thing from your list beacause your shopping cart is empty\")\n",
    "        \n",
    "    elif user_input == \"delete\":\n",
    "        sprouts_cart.delete_item()\n",
    "           \n",
    "    else:\n",
    "        user_input = input (\"None of the options you entered are valid or your shopping cart is empty and you can not delete items\\nDo you want to: Show/Add/Delete or Quit? \")\n",
    "\n",
    "\n",
    "\n",
    "\n",
    "\n",
    "\n",
    "\n",
    "\n",
    "\n",
    "\n",
    "    \n",
    "    \n",
    "\n",
    "\n"
   ]
  },
  {
   "cell_type": "markdown",
   "metadata": {},
   "source": [
    "### Exercise 2 - Write a Python class which has two methods get_String and print_String. get_String accept a string from the user and print_String print the string in upper case"
   ]
  },
  {
   "cell_type": "code",
   "execution_count": 8,
   "metadata": {},
   "outputs": [
    {
     "name": "stdout",
     "output_type": "stream",
     "text": [
      "Please enter something cool: jshdfkjd\n",
      "JSHDFKJD\n"
     ]
    }
   ],
   "source": [
    "class String():\n",
    "    #attributes: string variable \n",
    "    string = ''\n",
    "    \n",
    "    \n",
    "    def __init(self):\n",
    "        pass\n",
    "    \n",
    "    def get_string(self):\n",
    "        user_string = input(\"Please enter something cool: \")\n",
    "        self.string = user_string\n",
    "        \n",
    "    def print_string(self):\n",
    "        print(self.string.upper())\n",
    "        \n",
    "\n",
    "string_1 = String()\n",
    "\n",
    "string_1.get_string()\n",
    "string_1.print_string()\n",
    "\n",
    "        \n",
    "\n",
    "\n"
   ]
  },
  {
   "cell_type": "code",
   "execution_count": null,
   "metadata": {},
   "outputs": [],
   "source": []
  }
 ],
 "metadata": {
  "kernelspec": {
   "display_name": "Python 3 (ipykernel)",
   "language": "python",
   "name": "python3"
  },
  "language_info": {
   "codemirror_mode": {
    "name": "ipython",
    "version": 3
   },
   "file_extension": ".py",
   "mimetype": "text/x-python",
   "name": "python",
   "nbconvert_exporter": "python",
   "pygments_lexer": "ipython3",
   "version": "3.10.9"
  }
 },
 "nbformat": 4,
 "nbformat_minor": 2
}
